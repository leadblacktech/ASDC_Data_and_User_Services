{
 "cells": [
  {
   "cell_type": "markdown",
   "id": "d0aeb9f6d9199c84",
   "metadata": {},
   "source": [
    "# How to calculate and visualize Aerosol Optical Depths (AOD) from MISR\n",
    "\n",
    "## Summary\n",
    "\n",
    "## Note\n",
    "\n",
    "By Cheyenne Land, Walt Baskin\n",
    "\n",
    "Tested using Python 3.8.10"
   ]
  },
  {
   "cell_type": "markdown",
   "id": "aed6023631cc40ae",
   "metadata": {},
   "source": [
    "## 1. Setup"
   ]
  },
  {
   "cell_type": "code",
   "execution_count": null,
   "id": "initial_id",
   "metadata": {
    "collapsed": true,
    "jupyter": {
     "outputs_hidden": true
    }
   },
   "outputs": [],
   "source": [
    "import h5py\n",
    "import numpy as np\n",
    "from matplotlib import pyplot as PLT\n",
    "import cartopy.crs as ccrs\n",
    "import earthaccess\n",
    "import os\n",
    "\n",
    "home_dir = os.environ['HOME']\n",
    "MISR_dir = os.path.abspath(f\"{home_dir}/MISR\")\n",
    "if not os.path.exists(MISR_dir):\n",
    "    os.makedirs(MISR_dir)\n",
    "\n",
    "%reload_ext autoreload\n",
    "%autoreload 2"
   ]
  },
  {
   "cell_type": "markdown",
   "id": "c9821c52",
   "metadata": {},
   "source": [
    "## 2. Search for data using earthaccess"
   ]
  },
  {
   "cell_type": "code",
   "execution_count": null,
   "id": "2d0dda17",
   "metadata": {},
   "outputs": [],
   "source": [
    "earthaccess.login()\n",
    "short_name = 'MIL3YAEN'\n",
    "version = '004'\n",
    "collection = short_name + '_' + version\n",
    "results = earthaccess.search_data(\n",
    "    short_name= short_name,\n",
    "    version = version,\n",
    "    provider = 'LARC_CLOUD',\n",
    "    temporal = (\"2019-12\", \"2020-12\")\n",
    ")\n",
    "print(f'{len(results[:])} file(s) found.')\n",
    "print(results)"
   ]
  },
  {
   "cell_type": "markdown",
   "id": "6bc00dec",
   "metadata": {},
   "source": [
    "## 3. Download data"
   ]
  },
  {
   "cell_type": "code",
   "execution_count": 31,
   "id": "2f0c6666",
   "metadata": {},
   "outputs": [
    {
     "name": "stderr",
     "output_type": "stream",
     "text": [
      "QUEUEING TASKS | : 100%|██████████| 1/1 [00:00<00:00, 1905.64it/s]\n",
      "PROCESSING TASKS | : 100%|██████████| 1/1 [00:09<00:00,  9.17s/it]\n",
      "COLLECTING RESULTS | : 100%|██████████| 1/1 [00:00<00:00, 11781.75it/s]\n"
     ]
    },
    {
     "name": "stdout",
     "output_type": "stream",
     "text": [
      "File, MISR_AM1_CGAS_2020_F15_0032.nc, downloaded here: ~/MISR/MIL3YAEN_004\n"
     ]
    },
    {
     "name": "stderr",
     "output_type": "stream",
     "text": [
      "QUEUEING TASKS | : 100%|██████████| 1/1 [00:00<00:00, 1919.59it/s]\n",
      "PROCESSING TASKS | : 100%|██████████| 1/1 [00:08<00:00,  8.93s/it]\n",
      "COLLECTING RESULTS | : 100%|██████████| 1/1 [00:00<00:00, 10512.04it/s]"
     ]
    },
    {
     "name": "stdout",
     "output_type": "stream",
     "text": [
      "File, MISR_AM1_CGAS_2021_F15_0032.nc, downloaded here: ~/MISR/MIL3YAEN_004\n"
     ]
    },
    {
     "name": "stderr",
     "output_type": "stream",
     "text": [
      "\n"
     ]
    }
   ],
   "source": [
    "for r in results[:]:\n",
    "    file_name = r['umm']['DataGranule']['Identifiers'][0]['Identifier']\n",
    "    try:\n",
    "        os.makedirs(f'{MISR_dir}/{collection}')\n",
    "    except FileExistsError: \n",
    "        continue\n",
    "    finally:\n",
    "        if os.path.exists(f'{MISR_dir}/{collection}/{file_name}') == True:\n",
    "            print(f'The file, {file_name} already exists. \\nLocated here: ~/MISR/{collection}/{file_name}')\n",
    "        else:\n",
    "            earthaccess.download(r, f'{MISR_dir}/{collection}')\n",
    "            print(f'File, {file_name}, downloaded here: ~/MISR/{collection}')"
   ]
  },
  {
   "cell_type": "markdown",
   "id": "79efc9ff0cffb777",
   "metadata": {},
   "source": [
    "## 4. Generate plot"
   ]
  },
  {
   "cell_type": "code",
   "execution_count": null,
   "id": "8dc06aa180f425cd",
   "metadata": {},
   "outputs": [],
   "source": [
    "# Open and read file\n",
    "for file in os.listdir(f'{MISR_dir}/{collection}'):\n",
    "    if file.endswith(\".nc\"):\n",
    "        data_file = os.path.join(f'{MISR_dir}/{collection}', file)\n",
    "        with h5py.File(data_file, mode='r') as f:\n",
    "            optical_depth = 'Aerosol_Parameter_Average/Absorbing_Aerosol_Optical_Depth_Per_Band'\n",
    "            data_optical_depth = f[optical_depth][:].astype(np.float64)\n",
    "            \n",
    "            #slice data\n",
    "            # by [Lat, Lon, Optical Depth Range, Band]\n",
    "\n",
    "            # Before conducting the histogram equalizatoin, slice the data with\n",
    "            # a value in each dimension of your choosing\n",
    "\n",
    "            # Optical Depth Range: 0 = All, 1 = <0.05, 2 = 0.05 - 0.15, 3 = 0.15 - 0.25, 4 = 0.25 - 0.4,\n",
    "            # 5 = 0.4 - 0.6, 6 = 0.6 - 0.8, 7 = 0.8 - 1.0, 8 = > 1.0\n",
    "\n",
    "            # MISR camera bands: 0 = Blue (443 nm), 1 = Green (555 nm), 2 = Red (670 nm), nir (867).\n",
    "\n",
    "            # For more informaion go to [https://asdc.larc.nasa.gov/documents/misr/dps/dps.html]\n",
    "\n",
    "            #In this case we have each band at the optical depth of < 0.05\n",
    "            blueband = data_optical_depth[:,:,1,0]\n",
    "            greenband = data_optical_depth[:,:,1,1]\n",
    "            redband = data_optical_depth[:,:,1,2]\n",
    "\n",
    "            #Stack the blue, green and red bands to use the histogram equalization function\n",
    "            data = np.dstack((blueband,greenband,redband))\n",
    "            \n",
    "            #Histogram Equalization\n",
    "            # Histogram Equalization is a technique that spreads out the most frequent intensity values\n",
    "            # to improve the contrast in images (Sudhakar). The histogram equalization process also relies on the\n",
    "            # cumulative distributive function (cdf). The cdf describes the probabliity that a variable takes a value less than or equal to x (COSTE).\n",
    "            # Using this function for the MISR Aerosol Optical Depth script will allow the user to have a better visualization of the data.\n",
    "\n",
    "            # Sudhakar, Shreenidhi. “Histogram Equalization.” Medium, Towards Data Science, 30 Jan. 2021, towardsdatascience.com/histogram-equalization-5d1013626e64.\n",
    "\n",
    "            # COSTE, Arthur. “Project 1 : HISTOGRAMS.” Image Processing, 5 Sept. 2012, www.sci.utah.edu/~acoste/uou/Image/project1/Arthur_COSTE_Project_1_report.html.\n",
    "            \n",
    "            nbr_bins = 256\n",
    "            data_min = 0.0\n",
    "            data_max = 1.0\n",
    "            data = np.where(data < data_min, data_min, data)\n",
    "            data = np.where(data > data_max, data_max, data)\n",
    "            ''' histogram equalization '''\n",
    "            datahist,bins = np.histogram(data.flatten(),nbr_bins, density=True)\n",
    "            ''' cumulative distribution function '''\n",
    "            cdf = datahist.cumsum()\n",
    "            cdf_normalized = cdf / cdf.max()\n",
    "            ''' use linear interpolation of cdf to find new pixel values '''\n",
    "            out_data = np.interp(data.flatten(),bins[:-1],cdf_normalized)\n",
    "            ''' scale between 0 and 1 '''\n",
    "            out_data_min = np.min(out_data)\n",
    "            out_data_max = np.max(out_data)\n",
    "            data_range = out_data_max - out_data_min\n",
    "            ''' normalize '''\n",
    "            out_data = ((out_data - out_data_min)/data_range)\n",
    "            oda_data = out_data.reshape(data.shape)\n",
    "\n",
    "            #Turn fill values (-9999) to NaN\n",
    "            masked_data = np.ma.masked_where(oda_data <= 0, oda_data)\n",
    "            final_oda_data = oda_data.copy()\n",
    "            final_oda_data[masked_data <= 0] = np.nan\n",
    "\n",
    "            #Convert array type from float64 to the datas original data type, float32\n",
    "            final32 = np.float32(final_oda_data)\n",
    "\n",
    "            #Select a band to plot\n",
    "            #0 = Blue (443 nm), 1 = Green (555 nm), 2 = Red (670 nm)\n",
    "            greenbandfinal = final32[:,:,1]\n",
    "\n",
    "            #Plot figure\n",
    "            PLT.figure(figsize=(7.20,3.60))\n",
    "            lons = np.linspace(-179.75,179.75, 720)\n",
    "            lats = np.linspace(89.75,-89.75, 360)\n",
    "            ax = PLT.axes(projection=ccrs.PlateCarree())\n",
    "            im = PLT.contourf(lons, lats, greenbandfinal, 300, cmap=PLT.get_cmap('jet'),\n",
    "                        transform=ccrs.PlateCarree())\n",
    "            ax.coastlines()\n",
    "            PLT.title(f'Absorbing Aerosol Optical Depth at < 0.05 and 555nm\\n {file}', fontsize=8)\n",
    "            cb = PLT.colorbar(im, ticks = [0 , 1 ] , shrink=0.83)\n",
    "            cb.set_label('Absorbing Aerosol Optical Depth', fontsize=8)\n",
    "\n",
    "            try: \n",
    "                if os.path.exists(f'{MISR_dir}/{collection}/{file}.jpg') == True:\n",
    "                    print(f'This plot already exits: {MISR_dir}/{collection}/{file}.jpg')\n",
    "                else:\n",
    "                    PLT.savefig(f'{MISR_dir}/{collection}/{file}.jpg', dpi=200)\n",
    "                    print(f'Plot saved here: ~/MISR/{collection}/{file}.png')\n",
    "            except FileExistsError:\n",
    "                continue\n",
    "        \n",
    "            PLT.close()\n",
    "            print('Removing data file...')\n",
    "            os.remove(data_file)\n"
   ]
  }
 ],
 "metadata": {
  "kernelspec": {
   "display_name": "asdc_venv",
   "language": "python",
   "name": "python3"
  },
  "language_info": {
   "codemirror_mode": {
    "name": "ipython",
    "version": 3
   },
   "file_extension": ".py",
   "mimetype": "text/x-python",
   "name": "python",
   "nbconvert_exporter": "python",
   "pygments_lexer": "ipython3",
   "version": "3.10.5"
  }
 },
 "nbformat": 4,
 "nbformat_minor": 5
}
