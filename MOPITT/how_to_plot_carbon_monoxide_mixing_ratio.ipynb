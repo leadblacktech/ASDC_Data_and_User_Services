{
 "cells": [
  {
   "cell_type": "markdown",
   "id": "ebfd43b4a01e1678",
   "metadata": {},
   "source": [
    "# MOPITT Carbon Monoxide (CO) Mixing Ratio\n",
    "\n",
    "## Summary\n",
    "\n",
    "## Note\n",
    "By: Cheyenne Land\n",
    "\n",
    "Tested using Python 3.8.10"
   ]
  },
  {
   "cell_type": "markdown",
   "id": "ace631401ec36606",
   "metadata": {},
   "source": [
    "## 1. Setup"
   ]
  },
  {
   "cell_type": "code",
   "execution_count": null,
   "id": "initial_id",
   "metadata": {
    "collapsed": true,
    "jupyter": {
     "outputs_hidden": true
    }
   },
   "outputs": [],
   "source": [
    "import numpy as np\n",
    "import h5py\n",
    "from matplotlib import pyplot as PLT\n",
    "import cartopy.crs as ccrs\n",
    "import PIL\n",
    "import earthaccess\n",
    "import os\n",
    "\n",
    "%reload_ext autoreload\n",
    "%autoreload 2"
   ]
  },
  {
   "cell_type": "markdown",
   "id": "a7d6facf",
   "metadata": {},
   "source": [
    "## 2. Search for data using earthaccess"
   ]
  },
  {
   "cell_type": "code",
   "execution_count": null,
   "id": "12a415f9",
   "metadata": {},
   "outputs": [],
   "source": [
    "earthaccess.login()\n",
    "short_name = 'MOP03JM'\n",
    "version = '9'\n",
    "results = earthaccess.search_data(\n",
    "    short_name= short_name,\n",
    "    version = version,\n",
    "    temporal=(\"2024-09\", \"2024-10\")\n",
    ")\n",
    "print(f'{len(results[:])} file(s) found.')\n",
    "print(results)"
   ]
  },
  {
   "cell_type": "markdown",
   "id": "24d21021",
   "metadata": {},
   "source": [
    "## 3. Download data"
   ]
  },
  {
   "cell_type": "code",
   "execution_count": null,
   "id": "4920908d",
   "metadata": {},
   "outputs": [],
   "source": [
    "# IMPORTANT NOTE:\n",
    "# There are intermittent issues when donwloading from the ECS datapool. For now, this code will change from\n",
    "# using the ECS datapool links to Direct Data Download links.\n",
    "# This modification is temporary and will be removed once collection is in the cloud.\n",
    "for i in range(len(results[:])):\n",
    "    ecs_link = results[:][i]['umm']['RelatedUrls'][0]['URL']\n",
    "    ddd_link = ecs_link.replace('https://l5ftl01.larc.nasa.gov/ops/misrl2l3', 'https://asdc.larc.nasa.gov/data')\n",
    "    results[:][i]['umm']['RelatedUrls'][0]['URL'] = ddd_link\n",
    "\n",
    "file_names = []\n",
    "cwd = os.getcwd()\n",
    "for r in results[:]:\n",
    "    file_name = r['umm']['DataGranule']['Identifiers'][0]['Identifier']\n",
    "    earthaccess.download(r, cwd)\n",
    "    print(f'File downloaded: {file_name}') \n",
    "    file_names.append(file_name)"
   ]
  },
  {
   "cell_type": "markdown",
   "id": "9bf5aac282bc6f08",
   "metadata": {},
   "source": [
    "## 4. Generate plots"
   ]
  },
  {
   "cell_type": "code",
   "execution_count": null,
   "id": "dd62a50df9279453",
   "metadata": {},
   "outputs": [],
   "source": [
    "\n",
    "# Open and read file\n",
    "for file in file_names:\n",
    "    data_file = os.path.join(f'{cwd}', file)\n",
    "    file_name_wo_ext = file.split('.',1)[0]\n",
    "    os.makedirs(f'{file_name_wo_ext}')\n",
    "    with h5py.File(data_file, mode='r') as f:\n",
    "        name = '/HDFEOS/GRIDS/MOP03/Data Fields/RetrievedCOMixingRatioProfileDay'\n",
    "\n",
    "        # Slice data to get the pressure level of your choice\n",
    "        #   [Longitude(Xdim):360 , Latitude(Ydim):180, Presure level:9]\n",
    "        #   Pressure Level: 0 = 900 hPa, 1 = 800 hPa, 2 = 700 hPa, 3 = 600 hPa\n",
    "        #   4 = 500 hPa, 5 = 400 hpa, 6 = 300 hPa, 7 = 200 hPa, 8 = 100 hPa\n",
    "        d = f[name][:]\n",
    "        data = np.transpose(d)\n",
    "\n",
    "        # Retrieve the lat and lon data as well as the area of your choice\n",
    "        lon = f['/HDFEOS/GRIDS/MOP03/Data Fields/Longitude'][:]\n",
    "        lat = f['/HDFEOS/GRIDS/MOP03/Data Fields/Latitude'][:]\n",
    "\n",
    "        # Turn the -9999.0 into a NaN\n",
    "        masked_data = np.ma.masked_where(data <= 0, data)\n",
    "        CO_mixing_ratio = data.copy()\n",
    "        CO_mixing_ratio[masked_data <= 0] = np.nan\n",
    "\n",
    "        pressure_levels = np.arange(0,9)\n",
    "\n",
    "        file = data_file.split('/')[-1]\n",
    "        file_name_wo_ext = file.split('.',1)[0]\n",
    "\n",
    "        #Plot all graphs\n",
    "        for i in pressure_levels:\n",
    "            PLT.figure(figsize=(7.20,3.60))\n",
    "            ax = PLT.axes(projection=ccrs.PlateCarree())\n",
    "            im = PLT.contourf(lon, lat, CO_mixing_ratio[i,:,:], levels=np.linspace(0, 430, 25),\n",
    "                            cmap=PLT.get_cmap('jet'), vmin=0, vmax=430,\n",
    "                            transform=ccrs.PlateCarree())\n",
    "            ax.coastlines()\n",
    "\n",
    "            cb = PLT.colorbar(im, shrink = 0.76)\n",
    "            cb.set_label('ppbv', fontsize=8)\n",
    "            pressure = -i + 9\n",
    "\n",
    "\n",
    "            PLT.title(f'{file}\\n RetrievedCOMixingRatioProfileDay_{str(pressure)}00hPa',\n",
    "                    fontsize=8)\n",
    "            \n",
    "            # save the figure in your current directory\n",
    "            PLT.savefig(f'{cwd}/{file_name_wo_ext}/{file_name_wo_ext}_RetrievedCOMixingRatioProfileDay_{str(pressure)}00hPa.jpg',\n",
    "                                dpi=400)\n",
    "            print(f'Plot has been saved: {cwd}/{file_name_wo_ext}/{file_name_wo_ext}_RetrievedCOMixingRatioProfileDay_{str(pressure)}00hPa.jpg')\n",
    "            PLT.close()\n"
   ]
  },
  {
   "cell_type": "markdown",
   "id": "683a7492",
   "metadata": {},
   "source": [
    "## 5. Create gif"
   ]
  },
  {
   "cell_type": "code",
   "execution_count": null,
   "id": "ee9da0f5",
   "metadata": {},
   "outputs": [],
   "source": [
    "frames = []\n",
    "pressure = np.arange(1,10)[::-1]\n",
    "for file in file_names:\n",
    "    data_file = os.path.join(f'{cwd}', file)\n",
    "    file_name_wo_ext = file.split('.',1)[0]\n",
    "    for j in pressure:\n",
    "        new_frame = PIL.Image.open(rf'{cwd}/{file_name_wo_ext}/{file_name_wo_ext}_RetrievedCOMixingRatioProfileDay_{str(j)}00hPa.jpg')\n",
    "        frames.append(new_frame)\n",
    "        frames[0].save(f'{cwd}/{file_name_wo_ext}/{file_name_wo_ext}_RetrievedCOMixingRatioProfileDay_PressureLevels.gif', format = 'GIF',\n",
    "                        append_images = frames[:], save_all = True, duration = 250, loop = 0)\n",
    "    print(f'GIF has been saved: {cwd}/{file_name_wo_ext}/{file_name_wo_ext}_RetrievedCOMixingRatioProfileDay_PressureLevels.gif')\n",
    "    print('Removing data file...')\n",
    "    os.remove(data_file)      "
   ]
  }
 ],
 "metadata": {
  "kernelspec": {
   "display_name": "asdc_venv",
   "language": "python",
   "name": "python3"
  },
  "language_info": {
   "codemirror_mode": {
    "name": "ipython",
    "version": 3
   },
   "file_extension": ".py",
   "mimetype": "text/x-python",
   "name": "python",
   "nbconvert_exporter": "python",
   "pygments_lexer": "ipython3",
   "version": "3.10.5"
  }
 },
 "nbformat": 4,
 "nbformat_minor": 5
}
