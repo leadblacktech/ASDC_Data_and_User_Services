{
 "cells": [
  {
   "cell_type": "markdown",
   "id": "ebfd43b4a01e1678",
   "metadata": {},
   "source": [
    "# MOPITT Carbon Monoxide (CO) Mixing Ratio\n",
    "\n",
    "## Summary\n",
    "\n",
    "This code makes a GIF from the `RetrievedCOMixingRatioProfileDay` variable from Measurements Of Pollution In The Troposphere (MOPITT).\n",
    "\n",
    "## Prerequisites\n",
    "\n",
    "A free(!) account at https://www.earthdata.nasa.gov/ is needed to login and download the appropriate files.\n",
    "\n",
    "This notebook was tested last using Python 3.10.15, and requires these libraries:\n",
    "\n",
    "- [cartopy](https://scitools.org.uk/cartopy/docs/latest/)\n",
    "- [earthaccess](https://earthaccess.readthedocs.io/en/latest/)\n",
    "- [h5py](https://docs.h5py.org/en/stable/index.html)\n",
    "- [matplotlib](http://matplotlib.org/)\n",
    "- [numpy](https://numpy.org/)\n",
    "- [PIL](https://pypi.org/project/pillow/)\n",
    "\n",
    "### Notebook Author / Affiliation\n",
    "\n",
    "By Cheyenne Land / Atmospheric Science Data Center"
   ]
  },
  {
   "cell_type": "markdown",
   "id": "ace631401ec36606",
   "metadata": {},
   "source": [
    "## 1. Setup"
   ]
  },
  {
   "cell_type": "code",
   "execution_count": 9,
   "id": "initial_id",
   "metadata": {},
   "outputs": [],
   "source": [
    "import os\n",
    "from pathlib import Path\n",
    "\n",
    "import cartopy.crs as ccrs\n",
    "import earthaccess\n",
    "import h5py\n",
    "import numpy as np\n",
    "import PIL\n",
    "from matplotlib import pyplot as plt"
   ]
  },
  {
   "cell_type": "markdown",
   "id": "a7d6facf",
   "metadata": {},
   "source": [
    "## 2. Search for data using earthaccess"
   ]
  },
  {
   "cell_type": "code",
   "execution_count": 2,
   "id": "f87ca038-d55f-4344-a1b9-7ef29e95a340",
   "metadata": {},
   "outputs": [
    {
     "data": {
      "text/plain": [
       "<earthaccess.auth.Auth at 0x1155c9810>"
      ]
     },
     "execution_count": 2,
     "metadata": {},
     "output_type": "execute_result"
    }
   ],
   "source": [
    "earthaccess.login()"
   ]
  },
  {
   "cell_type": "code",
   "execution_count": 3,
   "id": "12a415f9",
   "metadata": {},
   "outputs": [
    {
     "name": "stdout",
     "output_type": "stream",
     "text": [
      "2 file(s) found.\n"
     ]
    }
   ],
   "source": [
    "short_name = \"MOP03JM\"\n",
    "version = \"9\"\n",
    "\n",
    "results = earthaccess.search_data(\n",
    "    short_name=short_name,\n",
    "    version=version,\n",
    "    provider=\"LARC_CLOUD\",  # this is needed only temporary, while there are still non-LARC_CLOUD versions of these granules.\n",
    "    temporal=(\"2024-09\", \"2024-10\"),\n",
    ")\n",
    "\n",
    "print(f\"{len(results)} file(s) found.\")"
   ]
  },
  {
   "cell_type": "code",
   "execution_count": 4,
   "id": "c3df2bee-6315-4317-aaec-6f9bd7ab78f7",
   "metadata": {},
   "outputs": [
    {
     "name": "stdout",
     "output_type": "stream",
     "text": [
      "[Collection: {'ShortName': 'MOP03JM', 'Version': '9'}\n",
      "Spatial coverage: {'HorizontalSpatialDomain': {'Geometry': {'BoundingRectangles': [{'WestBoundingCoordinate': -180.0, 'EastBoundingCoordinate': 180.0, 'NorthBoundingCoordinate': 90.0, 'SouthBoundingCoordinate': -90.0}]}}}\n",
      "Temporal coverage: {'RangeDateTime': {'BeginningDateTime': '2024-09-01T00:00:04.694Z', 'EndingDateTime': '2024-09-01T23:59:59.999Z'}}\n",
      "Size(MB): 146.863\n",
      "Data: ['https://data.asdc.earthdata.nasa.gov/asdc-prod-protected/MOPITT/MOP03JM.9/2024.09.01/MOP03JM-202409-L3V95.10.3.he5'], Collection: {'ShortName': 'MOP03JM', 'Version': '9'}\n",
      "Spatial coverage: {'HorizontalSpatialDomain': {'Geometry': {'BoundingRectangles': [{'WestBoundingCoordinate': -180.0, 'EastBoundingCoordinate': 180.0, 'NorthBoundingCoordinate': 90.0, 'SouthBoundingCoordinate': -90.0}]}}}\n",
      "Temporal coverage: {'RangeDateTime': {'BeginningDateTime': '2024-10-01T00:00:05.832Z', 'EndingDateTime': '2024-10-01T23:59:59.999Z'}}\n",
      "Size(MB): 149.263\n",
      "Data: ['https://data.asdc.earthdata.nasa.gov/asdc-prod-protected/MOPITT/MOP03JM.9/2024.10.01/MOP03JM-202410-L3V95.10.3.he5']]\n"
     ]
    }
   ],
   "source": [
    "print(results)"
   ]
  },
  {
   "cell_type": "markdown",
   "id": "24d21021",
   "metadata": {},
   "source": [
    "## 3. Download data"
   ]
  },
  {
   "cell_type": "code",
   "execution_count": 5,
   "id": "34962352-1a32-4511-809e-3c464ed7c074",
   "metadata": {},
   "outputs": [
    {
     "data": {
      "application/vnd.jupyter.widget-view+json": {
       "model_id": "632da6dcee014111b194e5d82226ec56",
       "version_major": 2,
       "version_minor": 0
      },
      "text/plain": [
       "QUEUEING TASKS | :   0%|          | 0/2 [00:00<?, ?it/s]"
      ]
     },
     "metadata": {},
     "output_type": "display_data"
    },
    {
     "data": {
      "application/vnd.jupyter.widget-view+json": {
       "model_id": "1aa7141c6a7145daa2a2ec4fea75aa24",
       "version_major": 2,
       "version_minor": 0
      },
      "text/plain": [
       "PROCESSING TASKS | :   0%|          | 0/2 [00:00<?, ?it/s]"
      ]
     },
     "metadata": {},
     "output_type": "display_data"
    },
    {
     "data": {
      "application/vnd.jupyter.widget-view+json": {
       "model_id": "6b6f994b3ee4418393bc1f6aa4a45396",
       "version_major": 2,
       "version_minor": 0
      },
      "text/plain": [
       "COLLECTING RESULTS | :   0%|          | 0/2 [00:00<?, ?it/s]"
      ]
     },
     "metadata": {},
     "output_type": "display_data"
    },
    {
     "data": {
      "text/plain": [
       "['MOP03JM-202409-L3V95.10.3.he5', 'MOP03JM-202410-L3V95.10.3.he5']"
      ]
     },
     "execution_count": 5,
     "metadata": {},
     "output_type": "execute_result"
    }
   ],
   "source": [
    "downloaded_files = earthaccess.download(results, local_path=\".\")\n",
    "downloaded_files"
   ]
  },
  {
   "cell_type": "markdown",
   "id": "e8502e66-4d3c-4afc-8d30-cd215fd84b3a",
   "metadata": {},
   "source": [
    "## 4. Open the files"
   ]
  },
  {
   "cell_type": "code",
   "execution_count": 12,
   "id": "4959c922-f441-4417-95d2-61ef95999b43",
   "metadata": {},
   "outputs": [],
   "source": [
    "arrays = {\"lon\": [], \"lat\": [], \"CO_mixing_ratio\": []}\n",
    "\n",
    "# Open and read file\n",
    "for i, file in enumerate(downloaded_files):\n",
    "    with h5py.File(file, mode=\"r\") as f:\n",
    "        # Slice data to get the pressure level of your choice\n",
    "        #   [Longitude(Xdim):360 , Latitude(Ydim):180, Presure level:9]\n",
    "        #   Pressure Level: 0 = 900 hPa, 1 = 800 hPa, 2 = 700 hPa, 3 = 600 hPa\n",
    "        #   4 = 500 hPa, 5 = 400 hpa, 6 = 300 hPa, 7 = 200 hPa, 8 = 100 hPa\n",
    "        data = f[\"/HDFEOS/GRIDS/MOP03/Data Fields/RetrievedCOMixingRatioProfileDay\"][:]\n",
    "        data = np.transpose(data)\n",
    "\n",
    "        # Retrieve the lat and lon data as well as the area of your choice\n",
    "        lon = f[\"/HDFEOS/GRIDS/MOP03/Data Fields/Longitude\"][:]\n",
    "        lat = f[\"/HDFEOS/GRIDS/MOP03/Data Fields/Latitude\"][:]\n",
    "\n",
    "        # Turn the -9999.0 into a NaN\n",
    "        masked_data = np.ma.masked_where(data <= 0, data)\n",
    "        CO_mixing_ratio = data.copy()\n",
    "        CO_mixing_ratio[masked_data <= 0] = np.nan\n",
    "\n",
    "        arrays[\"lon\"].append(lon)\n",
    "        arrays[\"lat\"].append(lat)\n",
    "        arrays[\"CO_mixing_ratio\"].append(CO_mixing_ratio)"
   ]
  },
  {
   "cell_type": "markdown",
   "id": "9bf5aac282bc6f08",
   "metadata": {},
   "source": [
    "## 5. Generate plots"
   ]
  },
  {
   "cell_type": "code",
   "execution_count": 16,
   "id": "dd62a50df9279453",
   "metadata": {},
   "outputs": [
    {
     "name": "stdout",
     "output_type": "stream",
     "text": [
      "Plot has been saved: MOP03JM-202409-L3V95.10.3/MOP03JM-202409-L3V95.10.3_RetrievedCOMixingRatioProfileDay_900hPa.jpg\n",
      "Plot has been saved: MOP03JM-202409-L3V95.10.3/MOP03JM-202409-L3V95.10.3_RetrievedCOMixingRatioProfileDay_800hPa.jpg\n",
      "Plot has been saved: MOP03JM-202409-L3V95.10.3/MOP03JM-202409-L3V95.10.3_RetrievedCOMixingRatioProfileDay_700hPa.jpg\n",
      "Plot has been saved: MOP03JM-202409-L3V95.10.3/MOP03JM-202409-L3V95.10.3_RetrievedCOMixingRatioProfileDay_600hPa.jpg\n",
      "Plot has been saved: MOP03JM-202409-L3V95.10.3/MOP03JM-202409-L3V95.10.3_RetrievedCOMixingRatioProfileDay_500hPa.jpg\n",
      "Plot has been saved: MOP03JM-202409-L3V95.10.3/MOP03JM-202409-L3V95.10.3_RetrievedCOMixingRatioProfileDay_400hPa.jpg\n",
      "Plot has been saved: MOP03JM-202409-L3V95.10.3/MOP03JM-202409-L3V95.10.3_RetrievedCOMixingRatioProfileDay_300hPa.jpg\n",
      "Plot has been saved: MOP03JM-202409-L3V95.10.3/MOP03JM-202409-L3V95.10.3_RetrievedCOMixingRatioProfileDay_200hPa.jpg\n",
      "Plot has been saved: MOP03JM-202409-L3V95.10.3/MOP03JM-202409-L3V95.10.3_RetrievedCOMixingRatioProfileDay_100hPa.jpg\n",
      "Plot has been saved: MOP03JM-202410-L3V95.10.3/MOP03JM-202410-L3V95.10.3_RetrievedCOMixingRatioProfileDay_900hPa.jpg\n",
      "Plot has been saved: MOP03JM-202410-L3V95.10.3/MOP03JM-202410-L3V95.10.3_RetrievedCOMixingRatioProfileDay_800hPa.jpg\n",
      "Plot has been saved: MOP03JM-202410-L3V95.10.3/MOP03JM-202410-L3V95.10.3_RetrievedCOMixingRatioProfileDay_700hPa.jpg\n",
      "Plot has been saved: MOP03JM-202410-L3V95.10.3/MOP03JM-202410-L3V95.10.3_RetrievedCOMixingRatioProfileDay_600hPa.jpg\n",
      "Plot has been saved: MOP03JM-202410-L3V95.10.3/MOP03JM-202410-L3V95.10.3_RetrievedCOMixingRatioProfileDay_500hPa.jpg\n",
      "Plot has been saved: MOP03JM-202410-L3V95.10.3/MOP03JM-202410-L3V95.10.3_RetrievedCOMixingRatioProfileDay_400hPa.jpg\n",
      "Plot has been saved: MOP03JM-202410-L3V95.10.3/MOP03JM-202410-L3V95.10.3_RetrievedCOMixingRatioProfileDay_300hPa.jpg\n",
      "Plot has been saved: MOP03JM-202410-L3V95.10.3/MOP03JM-202410-L3V95.10.3_RetrievedCOMixingRatioProfileDay_200hPa.jpg\n",
      "Plot has been saved: MOP03JM-202410-L3V95.10.3/MOP03JM-202410-L3V95.10.3_RetrievedCOMixingRatioProfileDay_100hPa.jpg\n"
     ]
    }
   ],
   "source": [
    "pressure_levels = np.arange(0, 9)\n",
    "\n",
    "proj = ccrs.PlateCarree()\n",
    "\n",
    "for file_index, file in enumerate(downloaded_files):\n",
    "    filestem = Path(file).stem\n",
    "    os.makedirs(filestem, exist_ok=True)\n",
    "\n",
    "    # Plot all graphs.\n",
    "    for i in pressure_levels:\n",
    "        fig, ax = plt.subplots(figsize=(7.20, 3.60), dpi=80, subplot_kw={\"projection\": proj})\n",
    "\n",
    "        im = ax.contourf(\n",
    "            arrays[\"lon\"][file_index],\n",
    "            arrays[\"lat\"][file_index],\n",
    "            arrays[\"CO_mixing_ratio\"][file_index][i, :, :],\n",
    "            levels=np.linspace(0, 430, 25),\n",
    "            cmap=\"jet\",\n",
    "            vmin=0,\n",
    "            vmax=430,\n",
    "            transform=proj,\n",
    "        )\n",
    "        ax.coastlines()\n",
    "\n",
    "        cb = plt.colorbar(im, shrink=0.76)\n",
    "        cb.set_label(\"ppbv\", fontsize=8)\n",
    "\n",
    "        pressure_prefix = -i + 9\n",
    "        plt.title(\n",
    "            f\"{file}\\n RetrievedCOMixingRatioProfileDay_{str(pressure_prefix)}00hPa\", fontsize=8\n",
    "        )\n",
    "\n",
    "        # Save the figure.\n",
    "        name_prefix = f\"{filestem}/{filestem}_RetrievedCOMixingRatioProfileDay\"\n",
    "        plt.savefig(f\"{name_prefix}_{pressure_prefix}00hPa.jpg\", dpi=400)\n",
    "        print(f\"Plot has been saved: {name_prefix}_{pressure_prefix}00hPa.jpg\")\n",
    "        plt.close()"
   ]
  },
  {
   "cell_type": "markdown",
   "id": "683a7492",
   "metadata": {},
   "source": [
    "## 6. Create gif"
   ]
  },
  {
   "cell_type": "code",
   "execution_count": 17,
   "id": "ee9da0f5",
   "metadata": {},
   "outputs": [
    {
     "name": "stdout",
     "output_type": "stream",
     "text": [
      "GIF has been saved: MOP03JM-202409-L3V95.10.3/MOP03JM-202409-L3V95.10.3_RetrievedCOMixingRatioProfileDay_PressureLevels.gif\n",
      "GIF has been saved: MOP03JM-202410-L3V95.10.3/MOP03JM-202410-L3V95.10.3_RetrievedCOMixingRatioProfileDay_PressureLevels.gif\n"
     ]
    }
   ],
   "source": [
    "frames = []\n",
    "pressures = np.arange(1, 10)[::-1]\n",
    "\n",
    "for file in downloaded_files:\n",
    "    filestem = Path(file).stem\n",
    "    name_prefix = f\"{filestem}/{filestem}_RetrievedCOMixingRatioProfileDay\"\n",
    "\n",
    "    for j in pressures:\n",
    "        new_frame = PIL.Image.open(rf\"{name_prefix}_{j}00hPa.jpg\")\n",
    "        frames.append(new_frame)\n",
    "        frames[0].save(\n",
    "            f\"{name_prefix}_PressureLevels.gif\",\n",
    "            format=\"GIF\",\n",
    "            append_images=frames[:],\n",
    "            save_all=True,\n",
    "            duration=250,\n",
    "            loop=0,\n",
    "        )\n",
    "\n",
    "    print(f\"GIF has been saved: {name_prefix}_PressureLevels.gif\")"
   ]
  },
  {
   "cell_type": "code",
   "execution_count": null,
   "id": "7f3f5b6e-f4be-48c3-ae59-d4482f1424f6",
   "metadata": {},
   "outputs": [],
   "source": []
  }
 ],
 "metadata": {
  "kernelspec": {
   "display_name": "Python 3 (ipykernel)",
   "language": "python",
   "name": "python3"
  },
  "language_info": {
   "codemirror_mode": {
    "name": "ipython",
    "version": 3
   },
   "file_extension": ".py",
   "mimetype": "text/x-python",
   "name": "python",
   "nbconvert_exporter": "python",
   "pygments_lexer": "ipython3",
   "version": "3.10.15"
  }
 },
 "nbformat": 4,
 "nbformat_minor": 5
}
