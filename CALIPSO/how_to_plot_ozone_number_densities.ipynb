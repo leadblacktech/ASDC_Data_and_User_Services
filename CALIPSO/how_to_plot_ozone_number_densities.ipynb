{
 "cells": [
  {
   "cell_type": "markdown",
   "id": "b9701d73808a3159",
   "metadata": {},
   "source": [
    "# CALIPSO Ozone Number Density\n",
    "\n",
    "### Summary\n",
    "\n",
    "The goal of this notebook is to show how to plot vertical distribution of ozone number density (m^-3) using the `pyhdf` library for a latitudinal section. The data are from the CALIPSO Lidar Level 1B profile data, V4-51.\n",
    "\n",
    "### Prerequisites\n",
    "\n",
    "This notebook was written using Python 3.8.10, and requires these libraries and files:\n",
    "- [numpy](https://numpy.org/)\n",
    "- [matplotlib](http://matplotlib.org/)\n",
    "- [pyhdf](https://github.com/fhs/pyhdf)\n",
    "- [os](https://docs.python.org/3/library/os.html)\n",
    "- [earthacess](https://earthaccess.readthedocs.io/en/latest/)\n",
    "\n",
    "### Notebook Author / Affiliation\n",
    "Cheyenne Land / Atmospheric Science Data Center"
   ]
  },
  {
   "cell_type": "markdown",
   "id": "3adf6506fab3fec5",
   "metadata": {},
   "source": [
    "## 1. Setup"
   ]
  },
  {
   "cell_type": "code",
   "execution_count": null,
   "id": "ed2ac560c775dbd4",
   "metadata": {},
   "outputs": [],
   "source": [
    "from pyhdf.SD import SD, SDC\n",
    "import numpy as np\n",
    "from matplotlib import pyplot as PLT\n",
    "import earthaccess\n",
    "import os\n",
    "\n",
    "home_dir = os.environ['HOME']\n",
    "CALIPSO_dir = os.path.abspath(f\"{home_dir}/CALIPSO\")\n",
    "if not os.path.exists(CALIPSO_dir):\n",
    "    os.makedirs(CALIPSO_dir)\n",
    "\n",
    "%reload_ext autoreload\n",
    "%autoreload 2\n"
   ]
  },
  {
   "cell_type": "markdown",
   "id": "a965571c7a565107",
   "metadata": {},
   "source": [
    "## 2. Search for data using earthaccess"
   ]
  },
  {
   "cell_type": "code",
   "execution_count": null,
   "id": "dde55b658a78ed38",
   "metadata": {},
   "outputs": [],
   "source": [
    "earthaccess.login()\n",
    "short_name = 'CAL_LID_L1-Standard-V4-51'\n",
    "version = 'V4-51'\n",
    "collection = short_name + '_' + version\n",
    "results = earthaccess.search_data(\n",
    "    short_name= short_name,\n",
    "    version = version,\n",
    "    temporal=(\"2020-02-01T00:00:00\", \"2020-02-01T01:59:59\")\n",
    ")\n",
    "print(f'{len(results[:])} file(s) found.')\n",
    "print(results)"
   ]
  },
  {
   "cell_type": "markdown",
   "id": "dd560cbd",
   "metadata": {},
   "source": [
    "## 3. Download data"
   ]
  },
  {
   "cell_type": "code",
   "execution_count": null,
   "id": "71f9a931",
   "metadata": {},
   "outputs": [],
   "source": [
    "for r in results[:]:\n",
    "    file_name = r['umm']['DataGranule']['Identifiers'][0]['Identifier']\n",
    "    try:\n",
    "        os.makedirs(f'{CALIPSO_dir}/{collection}')\n",
    "    except FileExistsError: \n",
    "        continue\n",
    "    finally:\n",
    "        if os.path.exists(f'{CALIPSO_dir}/{collection}/{file_name}') == True:\n",
    "            print(f'The file, {file_name} already exists. \\nLocated here: ~/CALIPSO/{collection}/{file_name}')\n",
    "        else:\n",
    "            earthaccess.download(r, f'{CALIPSO_dir}/{collection}')\n",
    "            print(f'File, {file_name}, downloaded here: ~/CALIPSO/{collection}')   \n",
    "\n",
    "\n",
    "        "
   ]
  },
  {
   "cell_type": "markdown",
   "id": "82c82c77",
   "metadata": {},
   "source": [
    "## 4. Generate Plot\n",
    "\n",
    "Ozone_number_density [# of single shot (333m) resn profiles in file (55725), met_data_altitude (33)]"
   ]
  },
  {
   "cell_type": "code",
   "execution_count": null,
   "id": "3c83435d",
   "metadata": {},
   "outputs": [],
   "source": [
    "#Open and read file\n",
    "for file in os.listdir(f'{CALIPSO_dir}/{collection}'):\n",
    "    if file.endswith(\".hdf\"):\n",
    "        data_file = os.path.join(f'{CALIPSO_dir}/{collection}', file)\n",
    "        hdf = SD(data_file, SDC.READ)\n",
    "        ds = hdf.datasets()\n",
    "\n",
    "        #retrieve data\n",
    "        hdfdataobject = hdf.select('Ozone_Number_Density')\n",
    "        latitude = hdf.select('Latitude')\n",
    "        data = hdfdataobject.get()\n",
    "        ozone_number_density = np.transpose(data)\n",
    "        lat = latitude.get()[:,0]\n",
    "\n",
    "        #Interval for altitude to plot the y-axis\n",
    "        #Range is from -2 km - 40 km of 33 range bins. For more detail go to CALIPSO Data Products Catalog at:\n",
    "        # https://www-calipso.larc.nasa.gov/products/CALIPSO_DPC_Rev4x93.pdf\n",
    "        met_data_altitudes = np.linspace(-2,40,33)\n",
    "\n",
    "        #plot data\n",
    "        PLT.figure(figsize=(7.20,3.60))\n",
    "        im = PLT.contourf(lat, met_data_altitudes, ozone_number_density,\n",
    "                        cmap=PLT.get_cmap('jet'))\n",
    "        #collection_name = data_file.split('/')[-1]\n",
    "        PLT.title(f'{file_name}\\n Ozone Number Density',\n",
    "        fontsize=8)\n",
    "        PLT.ylabel(\"Altitude (km)\", fontsize = 8)\n",
    "        PLT.xlabel(\"Latitude (deg)\", fontsize = 8)\n",
    "        cb = PLT.colorbar(im , shrink=0.90)\n",
    "        cb.set_label('Ozone Number Denisty m-³', fontsize=8)\n",
    "        try:\n",
    "            if os.path.exists(f'{CALIPSO_dir}/{collection}/{file}_Ozone_Number_Density.jpg') == True:\n",
    "                print(f'This plot already exits: {CALIPSO_dir}/{collection}/{file}_Ozone_Number_Density.jpg')\n",
    "            else: \n",
    "                PLT.savefig(f'{CALIPSO_dir}/{collection}/{file}_Ozone_Number_Density.jpg', dpi=200)\n",
    "                print(f'Plot saved here: ~/CALIPSO/{collection}/{collection}_Ozone_Number_Density.jpg')                \n",
    "        except FileExistsError:\n",
    "            continue      \n",
    "        \n",
    "        PLT.close()\n",
    "        print('Removing data file...')\n",
    "        os.remove(data_file)\n",
    "        \n"
   ]
  }
 ],
 "metadata": {
  "kernelspec": {
   "display_name": "asdc_venv",
   "language": "python",
   "name": "python3"
  },
  "language_info": {
   "codemirror_mode": {
    "name": "ipython",
    "version": 3
   },
   "file_extension": ".py",
   "mimetype": "text/x-python",
   "name": "python",
   "nbconvert_exporter": "python",
   "pygments_lexer": "ipython3",
   "version": "3.10.5"
  }
 },
 "nbformat": 4,
 "nbformat_minor": 5
}
