{
 "cells": [
  {
   "cell_type": "markdown",
   "id": "cc3e8c94bb90c6f9",
   "metadata": {},
   "source": [
    "# Plotting DISCOVR EPIC Level-2 ozone product parameters\n",
    "\n",
    "## Summary\n",
    "\n",
    "This code graphs 4 different parameters from the DSCOVR EPIC Level 2 Total Ozone, Version 3 product\n",
    "(Ozone, Reflectivity, Radiative Cloud Fraction, Cloud Pressure).\n",
    "\n",
    "## Reference\n",
    "\n",
    "Code Reference: [https://hdfeos.org/zoo/LaRC/DSCOVR_EPIC_L2_TO3_03_20210301005516_03.h5.py](https://hdfeos.org/zoo/LaRC/DSCOVR_EPIC_L2_TO3_03_20210301005516_03.h5.py)\n",
    "\n",
    "For more information on this data product please vist:\n",
    "[https://avdc.gsfc.nasa.gov/pub/DSCOVR/EPIC_Pulications/EPICTO3UserGuide_final.pdf](https://avdc.gsfc.nasa.gov/pub/DSCOVR/EPIC_Pulications/EPICTO3UserGuide_final.pdf)\n",
    "\n",
    "## Note\n",
    "\n",
    "By: Cheyenne Land\n",
    "\n",
    "Tested using Python 3.8.10\n"
   ]
  },
  {
   "cell_type": "markdown",
   "id": "9aadf75c3cea6b6f",
   "metadata": {},
   "source": [
    "## 1. Setup"
   ]
  },
  {
   "cell_type": "code",
   "execution_count": null,
   "id": "29b177e6b88e52c4",
   "metadata": {},
   "outputs": [],
   "source": [
    "import h5py\n",
    "import matplotlib.pyplot as plt\n",
    "import cartopy.crs as ccrs\n",
    "import numpy as np\n",
    "from cartopy.mpl.gridliner import LONGITUDE_FORMATTER, LATITUDE_FORMATTER\n",
    "import earthaccess\n",
    "import os\n",
    "\n",
    "%reload_ext autoreload\n",
    "%autoreload 2"
   ]
  },
  {
   "cell_type": "markdown",
   "id": "e86def85",
   "metadata": {},
   "source": [
    "## 2. Search for data using earthaccess"
   ]
  },
  {
   "cell_type": "code",
   "execution_count": null,
   "id": "4c0153d4",
   "metadata": {},
   "outputs": [],
   "source": [
    "earthaccess.login()\n",
    "short_name = 'DSCOVR_EPIC_L2_TO3'\n",
    "version = '03'\n",
    "results = earthaccess.search_data(\n",
    "    short_name= short_name,\n",
    "    version = version,\n",
    "    temporal=(\"2025-02-01T00:00:00\", \"2025-02-01T04:59:59\")\n",
    ")\n",
    "print(f'{len(results[:])} file(s) found.')\n",
    "print(results)"
   ]
  },
  {
   "cell_type": "markdown",
   "id": "5ab6d59d",
   "metadata": {},
   "source": [
    "## 3. Download data"
   ]
  },
  {
   "cell_type": "code",
   "execution_count": null,
   "id": "c23e28e7",
   "metadata": {},
   "outputs": [],
   "source": [
    "file_names = []\n",
    "cwd = os.getcwd()\n",
    "for r in results[:]:\n",
    "    file_name = r['umm']['DataGranule']['Identifiers'][0]['Identifier']\n",
    "    earthaccess.download(r, cwd)\n",
    "    print(f'File downloaded: {file_name}')   \n",
    "    file_names.append(file_name)   "
   ]
  },
  {
   "cell_type": "markdown",
   "id": "99f5ce6b71d58bcf",
   "metadata": {},
   "source": [
    "## 4. Generate plot"
   ]
  },
  {
   "cell_type": "code",
   "execution_count": null,
   "id": "60a469d7853ad43c",
   "metadata": {},
   "outputs": [],
   "source": [
    "# Open and read file\n",
    "for file in file_names:\n",
    "    data_file = os.path.join(f'{cwd}', file)\n",
    "    with h5py.File(data_file, mode='r') as f:\n",
    "        ozone = '/Ozone'\n",
    "        dataozone = f[ozone][:].astype(np.float64)\n",
    "        reflectivity = '/Reflectivity'\n",
    "        datareflectivity = f[reflectivity][:].astype(np.float64)\n",
    "        RCF = '/RadiativeCloudFraction'\n",
    "        dataRCF = f[RCF][:].astype(np.float64)\n",
    "        CP = '/CloudPressure'\n",
    "        dataCP = f[CP][:].astype(np.float64)\n",
    "        lat = f['/Latitude'][:]\n",
    "        lon = f['/Longitude'][:]\n",
    "\n",
    "        #set fill value for each variable\n",
    "        FillValue = -999.0\n",
    "\n",
    "        dataozone[dataozone == FillValue] = np.nan\n",
    "        dataozone = np.ma.masked_where(np.isnan(dataozone), dataozone)\n",
    "\n",
    "        datareflectivity[datareflectivity == FillValue] = np.nan\n",
    "        datareflectivity = np.ma.masked_where(np.isnan(datareflectivity), datareflectivity)\n",
    "\n",
    "        dataRCF[dataRCF == FillValue] = np.nan\n",
    "        dataRCF = np.ma.masked_where(np.isnan(dataRCF), dataRCF)\n",
    "\n",
    "        dataCP[dataCP == FillValue] = np.nan\n",
    "        dataCP = np.ma.masked_where(np.isnan(dataCP), dataCP)\n",
    "\n",
    "        #find middle location\n",
    "        lat_m = lat[int(lat.shape[0]/2),int(lat.shape[1]/2)]\n",
    "        lon_m = lon[int(lon.shape[0]/2),int(lon.shape[1]/2)]\n",
    "        \n",
    "        #plot data\n",
    "        fig = plt.figure(figsize=(12,9.5), dpi=300)\n",
    "\n",
    "        orth = ccrs.Orthographic(central_longitude=lon_m,\n",
    "                        central_latitude=lat_m,\n",
    "                        globe=None)\n",
    "\n",
    "        ax1 = fig.add_subplot(221, projection=orth)\n",
    "        im1 = ax1.scatter(lon, lat, c=dataozone, s=1, cmap=plt.cm.jet,\n",
    "                        transform=ccrs.PlateCarree())\n",
    "        ax1.coastlines()\n",
    "        gl = ax1.gridlines()\n",
    "        gl.top_labels = False\n",
    "        gl.right_labels = False\n",
    "        gl.xformatter = LONGITUDE_FORMATTER\n",
    "        gl.yformatter = LATITUDE_FORMATTER\n",
    "        cb1 = plt.colorbar(im1, fraction=0.022, pad=0.01)\n",
    "        cb1.set_label('DU', fontsize=10)\n",
    "        ax1.set_title('Ozone', size = 10)\n",
    "\n",
    "        ax2 = fig.add_subplot(222, projection=orth)\n",
    "        im2 = ax2.scatter(lon, lat, c=datareflectivity, s=1, cmap=plt.cm.jet,\n",
    "                        transform=ccrs.PlateCarree())\n",
    "        ax2.coastlines()\n",
    "        g2 = ax2.gridlines()\n",
    "        g2.top_labels = False\n",
    "        g2.right_labels = False\n",
    "        g2.xformatter = LONGITUDE_FORMATTER\n",
    "        g2.yformatter = LATITUDE_FORMATTER\n",
    "        cb2 = plt.colorbar(im2, fraction=0.022, pad=0.01)\n",
    "        ax2.set_title('Reflectivity', size = 10)\n",
    "\n",
    "        ax3 = fig.add_subplot(223, projection=orth)\n",
    "        im3 = ax3.scatter(lon, lat, c=dataRCF, s=1, cmap=plt.cm.jet,\n",
    "                        transform=ccrs.PlateCarree())\n",
    "        ax3.coastlines()\n",
    "        g3 = ax3.gridlines()\n",
    "        g3.top_labels = False\n",
    "        g3.right_labels = False\n",
    "        g3.xformatter = LONGITUDE_FORMATTER\n",
    "        g3.yformatter = LATITUDE_FORMATTER\n",
    "        cb3 = plt.colorbar(im3, fraction=0.022, pad=0.01)\n",
    "        ax3.set_title('Radiative Cloud Fraction', size = 10)\n",
    "\n",
    "        ax4 = fig.add_subplot(224, projection=orth)\n",
    "        im4 = ax4.scatter(lon, lat, c=dataCP, s=1, cmap=plt.cm.jet,\n",
    "                        transform=ccrs.PlateCarree())\n",
    "        ax4.coastlines()\n",
    "        g4 = ax4.gridlines()\n",
    "        g4.top_labels = False\n",
    "        g4.right_labels = False\n",
    "        g4.xformatter = LONGITUDE_FORMATTER\n",
    "        g4.yformatter = LATITUDE_FORMATTER\n",
    "        cb4 = plt.colorbar(im4, fraction=0.022, pad=0.01)\n",
    "        ax4.set_title('Cloud Pressure', size = 10)\n",
    "\n",
    "        plt.suptitle(f'{file}', fontsize=10)\n",
    "        plt.savefig(f'{file}.png', dpi=200)\n",
    "        print(f'Plot has been saved: {cwd}/{file}.png')\n",
    "        plt.close()\n",
    "        print('Removing data file...')\n",
    "        os.remove(data_file)"
   ]
  }
 ],
 "metadata": {
  "kernelspec": {
   "display_name": "asdc_venv",
   "language": "python",
   "name": "python3"
  },
  "language_info": {
   "codemirror_mode": {
    "name": "ipython",
    "version": 3
   },
   "file_extension": ".py",
   "mimetype": "text/x-python",
   "name": "python",
   "nbconvert_exporter": "python",
   "pygments_lexer": "ipython3",
   "version": "3.10.5"
  }
 },
 "nbformat": 4,
 "nbformat_minor": 5
}
