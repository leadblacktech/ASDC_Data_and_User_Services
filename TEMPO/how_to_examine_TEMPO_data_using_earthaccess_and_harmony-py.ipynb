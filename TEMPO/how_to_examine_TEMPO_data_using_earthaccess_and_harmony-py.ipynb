{
 "cells": [
  {
   "cell_type": "markdown",
   "id": "5fd080e1",
   "metadata": {},
   "source": [
    "# Examining TEMPO data retrieved from NASA Earthdata\n",
    "\n",
    "## Overview\n",
    "\n",
    "This notebook retrieves TEMPO data and inspects the characteristics of the data.\n",
    "\n",
    "## Dataset Information\n",
    "\n",
    "This notebook uses data from the [Tropospheric Emissions: Monitoring of Pollution (TEMPO)](https://asdc.larc.nasa.gov/project/TEMPO) instrument.\n",
    "\n",
    "## Table of Contents\n",
    "\n",
    "1. Setup\n",
    "2. Search for data granules\n",
    "3. Examining and downloading file results\n",
    "4. Reading and inspecting the data\n",
    "5. Working with the data to subset and plot\n",
    "6. Using Harmony-py to pre-process and retrieve data\n",
    "7. Plotting the data\n",
    "\n",
    "### Notebook Author / Affiliation\n",
    "\n",
    "Alexander Radkevich / Atmospheric Science Data Center (ASDC)"
   ]
  },
  {
   "cell_type": "markdown",
   "id": "a3b64c0a",
   "metadata": {},
   "source": [
    "# 1. Setup"
   ]
  },
  {
   "cell_type": "code",
   "execution_count": null,
   "id": "a620776c-a1e9-40b5-8a11-4aa1f0d24907",
   "metadata": {},
   "outputs": [],
   "source": [
    "import datetime as dt\n",
    "import getpass\n",
    "import shutil\n",
    "\n",
    "import earthaccess  # needed to discover and download TEMPO data\n",
    "import netCDF4 as nc  # needed to read TEMPO data\n",
    "import numpy as np\n",
    "import xarray as xr\n",
    "\n",
    "import matplotlib.pyplot as plt  # needed to plot the resulting time series\n",
    "import matplotlib.ticker as mticker\n",
    "import cartopy.crs as ccrs\n",
    "import cartopy.feature as cfeature\n",
    "from cartopy.mpl.gridliner import LONGITUDE_FORMATTER, LATITUDE_FORMATTER\n",
    "\n",
    "from harmony import BBox, Client, Collection, Request\n",
    "from harmony.config import Environment"
   ]
  },
  {
   "cell_type": "markdown",
   "id": "95e551d3-0fcf-4a18-a657-d0593fe030a7",
   "metadata": {},
   "source": [
    "## Logging in"
   ]
  },
  {
   "cell_type": "code",
   "execution_count": null,
   "id": "9d8dbff1-f2e4-4917-a928-1ab8c1fc48b1",
   "metadata": {},
   "outputs": [],
   "source": [
    "# User needs to create an account at https://www.earthdata.nasa.gov/\n",
    "# Function earthaccess.login prompts for EarthData login and password.\n",
    "auth = earthaccess.login(strategy=\"interactive\", persist=True)"
   ]
  },
  {
   "cell_type": "markdown",
   "id": "525385a3-170b-4145-8fef-6ac23f9ec6eb",
   "metadata": {},
   "source": [
    "# 2. Search for TEMPO granules\n",
    "\n",
    "We are going to search for data about nitrogen dioxide ($NO_2$) concentrations from TEMPO."
   ]
  },
  {
   "cell_type": "code",
   "execution_count": null,
   "id": "44fead4b-a0fb-4cad-8f33-502b3fcebdab",
   "metadata": {},
   "outputs": [],
   "source": [
    "short_name = \"TEMPO_NO2_L3\"  # collection name to search for in the EarthData\n",
    "version = \"V03\"\n",
    "\n",
    "# Point of interest: NASA Langley Research Center, HamptonVA, USA\n",
    "# latitude 37.1036 deg, longitude -76.3868 deg\n",
    "# POI_lat = 37.1036\n",
    "# POI_lon = -76.3868\n",
    "\n",
    "# generic location, somewhere in the middle of the USA\n",
    "POI_lat = 38.0\n",
    "POI_lon = -96.0\n",
    "date_start = \"2024-09-01 00:00:00\"\n",
    "date_end = \"2024-09-01 23:59:59\"\n",
    "\n",
    "POI_results = earthaccess.search_data(\n",
    "    short_name=short_name,\n",
    "    version=version,\n",
    "    temporal=(date_start, date_end),\n",
    "    point=(POI_lon, POI_lat),  # search by point of interest\n",
    ")\n",
    "\n",
    "dlat = 5.0  # deg\n",
    "dlon = 6.0  # deg\n",
    "bbox_results = earthaccess.search_data(\n",
    "    short_name=short_name,\n",
    "    version=version,\n",
    "    temporal=(date_start, date_end),\n",
    "    bounding_box=(\n",
    "        POI_lon - dlon,\n",
    "        POI_lat - dlat,\n",
    "        POI_lon + dlon,\n",
    "        POI_lat + dlat,\n",
    "    ),  # search by bounding box\n",
    ")"
   ]
  },
  {
   "cell_type": "markdown",
   "id": "5471bd8a",
   "metadata": {},
   "source": [
    "# 3. Examining and downloading file results"
   ]
  },
  {
   "cell_type": "markdown",
   "id": "664b616b-2917-49ab-8568-55952707b08d",
   "metadata": {},
   "source": [
    "## What does a result look like?"
   ]
  },
  {
   "cell_type": "code",
   "execution_count": null,
   "id": "5729f0e6-73d9-4dc7-98f2-b817f1bdd9df",
   "metadata": {},
   "outputs": [],
   "source": [
    "POI_results[0]"
   ]
  },
  {
   "cell_type": "markdown",
   "id": "36ea97d7-a267-4c84-a5de-e2a844b40646",
   "metadata": {},
   "source": [
    "Let's get the link to a granule (`-1` to index the last granule in the results)."
   ]
  },
  {
   "cell_type": "code",
   "execution_count": null,
   "id": "19cf1387-575d-4c9f-ab01-6b6c7831e666",
   "metadata": {},
   "outputs": [],
   "source": [
    "print(POI_results[-1].data_links()[0])"
   ]
  },
  {
   "cell_type": "markdown",
   "id": "bfceef7f-1f2e-423b-b272-5e35ca0bb994",
   "metadata": {},
   "source": [
    "Let's examine the file names present in the results object."
   ]
  },
  {
   "cell_type": "code",
   "execution_count": null,
   "id": "82ce63e1-3710-4a38-b427-c4392be428a6",
   "metadata": {},
   "outputs": [],
   "source": [
    "for r in POI_results:\n",
    "    granule_name = r.data_links()[0].split(\"/\")[-1]\n",
    "    print(granule_name)"
   ]
  },
  {
   "cell_type": "markdown",
   "id": "459b851c-4ac6-4a83-95f2-ed5fa976b80a",
   "metadata": {},
   "source": [
    "## Downloading granulues"
   ]
  },
  {
   "cell_type": "code",
   "execution_count": null,
   "id": "28f25906-ad69-4f90-844e-5ddb3785bf45",
   "metadata": {},
   "outputs": [],
   "source": [
    "files = earthaccess.download(POI_results[8:10], local_path=\".\")"
   ]
  },
  {
   "cell_type": "markdown",
   "id": "87eda9c9-4abe-4209-b862-671e7e49778b",
   "metadata": {},
   "source": [
    "# 4. Reading and inspecting the data"
   ]
  },
  {
   "cell_type": "markdown",
   "id": "67f6f413-0ced-4104-9496-c3f8637ac1e7",
   "metadata": {},
   "source": [
    "We first define a function for reading data from TEMPO_NO2_L3_V03 netCDF file."
   ]
  },
  {
   "cell_type": "code",
   "execution_count": null,
   "id": "3c078b35-0d2c-4697-95e9-5853b3377d25",
   "metadata": {},
   "outputs": [],
   "source": [
    "def read_TEMPO_NO2_L3(fn):\n",
    "    with nc.Dataset(fn) as ds:  # open read access to file\n",
    "        # Open group product, /product, as prod.\n",
    "        prod = ds.groups[\"product\"]\n",
    "\n",
    "        # Read variable vertical_column_stratosphere from prod (group product, /product).\n",
    "        var = prod.variables[\"vertical_column_stratosphere\"]\n",
    "        strat_NO2_column = var[:]  # create a numpy array\n",
    "        fv_strat_NO2 = var.getncattr(\"_FillValue\")\n",
    "\n",
    "        # Read variable 'vertical_column_troposphere' from prod (group product, /product).\n",
    "        var = prod.variables[\"vertical_column_troposphere\"]\n",
    "        trop_NO2_column = var[:]\n",
    "        fv_trop_NO2 = var.getncattr(\"_FillValue\")\n",
    "        NO2_unit = var.getncattr(\"units\")\n",
    "\n",
    "        # Read variable 'main_data_quality_flag' from prod (group product, /product).\n",
    "        QF = prod.variables[\"main_data_quality_flag\"][:]\n",
    "\n",
    "        # Read latitude and longitude variables from root (/) into a numpy array.\n",
    "        lat = ds.variables[\"latitude\"][:]\n",
    "        lon = ds.variables[\"longitude\"][:]\n",
    "\n",
    "    return lat, lon, strat_NO2_column, fv_strat_NO2, trop_NO2_column, fv_trop_NO2, NO2_unit, QF"
   ]
  },
  {
   "cell_type": "markdown",
   "id": "b4125e14-534a-49ed-967a-52a9749e7b3c",
   "metadata": {},
   "source": [
    "### Let's now examine the data in a granulue"
   ]
  },
  {
   "cell_type": "code",
   "execution_count": null,
   "id": "a222f6bb-b8cf-481b-8def-15931a57f432",
   "metadata": {},
   "outputs": [],
   "source": [
    "granule_name = POI_results[8].data_links()[0].split(\"/\")[-1]\n",
    "print(granule_name)\n",
    "lat, lon, strat_NO2_column, fv_strat_NO2, trop_NO2_column, fv_trop_NO2, NO2_unit, QF = (\n",
    "    read_TEMPO_NO2_L3(granule_name)\n",
    ")"
   ]
  },
  {
   "cell_type": "code",
   "execution_count": null,
   "id": "410e294a-df7c-4252-acaf-75f235157247",
   "metadata": {},
   "outputs": [],
   "source": [
    "print(\"unit of NO2 column is \", NO2_unit)  # unit of NO2 column"
   ]
  },
  {
   "cell_type": "code",
   "execution_count": null,
   "id": "f9c437ea-5e29-44d6-bded-cd3be425c6be",
   "metadata": {},
   "outputs": [],
   "source": [
    "# lat is a 1D array:\n",
    "lat.shape"
   ]
  },
  {
   "cell_type": "code",
   "execution_count": null,
   "id": "57693e5e-b345-4053-bf64-14e5480a7be5",
   "metadata": {},
   "outputs": [],
   "source": [
    "# lat is a 1D array:\n",
    "lon.shape"
   ]
  },
  {
   "cell_type": "code",
   "execution_count": null,
   "id": "2c924feb-bc6d-4f28-8185-3e980e91b70c",
   "metadata": {},
   "outputs": [],
   "source": [
    "# stratospheric NO2 column is a 3D array\n",
    "# with second dimension being the number of latitudes and third being the number of longitudes:\n",
    "strat_NO2_column.shape"
   ]
  },
  {
   "cell_type": "code",
   "execution_count": null,
   "id": "cdda5b39-4ce7-418f-bfe4-6f4b11e3dfe0",
   "metadata": {},
   "outputs": [],
   "source": [
    "# and so is tropospheric NO2 column:\n",
    "trop_NO2_column.shape"
   ]
  },
  {
   "cell_type": "code",
   "execution_count": null,
   "id": "845ee710-21d6-41a5-adf6-52d3ebccbe4e",
   "metadata": {},
   "outputs": [],
   "source": [
    "fv_strat_NO2  # fill value for the array of stratospheric NO2 column"
   ]
  },
  {
   "cell_type": "markdown",
   "id": "b4288d7a-6a82-4fb4-9762-661dca491684",
   "metadata": {},
   "source": [
    "### How many valid (non-fill) values are there?"
   ]
  },
  {
   "cell_type": "code",
   "execution_count": null,
   "id": "3c7bfb6e-7776-46fd-a693-bf94d6f84635",
   "metadata": {},
   "outputs": [],
   "source": [
    "len(strat_NO2_column[strat_NO2_column != fv_strat_NO2])"
   ]
  },
  {
   "cell_type": "code",
   "execution_count": null,
   "id": "5eaed079-d132-4567-b7c7-573e93d69c41",
   "metadata": {},
   "outputs": [],
   "source": [
    "len(trop_NO2_column[trop_NO2_column != fv_trop_NO2])"
   ]
  },
  {
   "cell_type": "markdown",
   "id": "c297bf28-6c40-4d9e-b275-fceb478f5d75",
   "metadata": {},
   "source": [
    "### How many pixels with high quality flag, 0, are there?"
   ]
  },
  {
   "cell_type": "code",
   "execution_count": null,
   "id": "0185cabf-f18a-4bfa-a0e6-b6338870750d",
   "metadata": {},
   "outputs": [],
   "source": [
    "len(QF[QF == 0])"
   ]
  },
  {
   "cell_type": "markdown",
   "id": "e8cae4dc-7ce0-4cc1-9878-7dd6a5b3f47b",
   "metadata": {},
   "source": [
    "### the numbers are different"
   ]
  },
  {
   "cell_type": "markdown",
   "id": "e2620d5d-c0f0-4d1f-8573-d32e08aee42f",
   "metadata": {},
   "source": [
    "### So, we need to create arrays of equal length to add them up in order to get total column"
   ]
  },
  {
   "cell_type": "code",
   "execution_count": null,
   "id": "40e634ba-04f0-4f95-8024-b2d2f46651ca",
   "metadata": {},
   "outputs": [],
   "source": [
    "good_data_mask = (QF == 0) & (trop_NO2_column != fv_trop_NO2) & (strat_NO2_column != fv_strat_NO2)\n",
    "print(good_data_mask.shape)"
   ]
  },
  {
   "cell_type": "markdown",
   "id": "e4c4d89d-a73b-4cc1-8e4e-0c197b1ffad1",
   "metadata": {},
   "source": [
    "### How many good pixels are there?"
   ]
  },
  {
   "cell_type": "code",
   "execution_count": null,
   "id": "40ae82b4-99d3-4cfe-8071-2e633f5419c2",
   "metadata": {},
   "outputs": [],
   "source": [
    "good_trop_NO2_column = trop_NO2_column[good_data_mask]\n",
    "len(good_trop_NO2_column)"
   ]
  },
  {
   "cell_type": "markdown",
   "id": "df27d756-1870-4d91-8700-e3fd356a78f9",
   "metadata": {},
   "source": [
    "### unfortunate reality - \"good\" pixels may contain negative column"
   ]
  },
  {
   "cell_type": "code",
   "execution_count": null,
   "id": "2514bb34-a731-43ee-b2ed-20ee909025cb",
   "metadata": {},
   "outputs": [],
   "source": [
    "min(good_trop_NO2_column)"
   ]
  },
  {
   "cell_type": "markdown",
   "id": "4aa17439-46d4-4767-b671-7a7085553776",
   "metadata": {},
   "source": [
    "### getting physically meaningful pixels"
   ]
  },
  {
   "cell_type": "code",
   "execution_count": null,
   "id": "3b416b78-a728-47c4-a76b-ee110db1a066",
   "metadata": {},
   "outputs": [],
   "source": [
    "best_data_mask = good_data_mask & (trop_NO2_column > 0.0) & (strat_NO2_column > 0.0)"
   ]
  },
  {
   "cell_type": "code",
   "execution_count": null,
   "id": "8ed0f842-4ea0-4e8d-b384-59657d229153",
   "metadata": {},
   "outputs": [],
   "source": [
    "best_trop_NO2_column = trop_NO2_column[best_data_mask]\n",
    "len(best_trop_NO2_column)"
   ]
  },
  {
   "cell_type": "markdown",
   "id": "4d946d79",
   "metadata": {},
   "source": [
    "# 5. Working with the data to subset and plot"
   ]
  },
  {
   "cell_type": "markdown",
   "id": "cc619a12-91ed-4105-852b-627a44ed10e5",
   "metadata": {},
   "source": [
    "### working with data: spatial subsetting and masking out bad data"
   ]
  },
  {
   "cell_type": "code",
   "execution_count": null,
   "id": "3f1a6d4d-582f-4724-87ab-89a0b3f5c132",
   "metadata": {},
   "outputs": [],
   "source": [
    "# Define a region of interest.\n",
    "dlat = 5  # deg\n",
    "dlon = 6  # deg\n",
    "mask_lat = (lat > POI_lat - dlat) & (lat < POI_lat + dlat)\n",
    "mask_lon = (lon > POI_lon - dlon) & (lon < POI_lon + dlon)\n",
    "\n",
    "# Subset NO2 column arrays.\n",
    "trop_NO2_column_loc = trop_NO2_column[0, mask_lat, :][:, mask_lon]\n",
    "strat_NO2_column_loc = strat_NO2_column[0, mask_lat, :][:, mask_lon]\n",
    "QF_loc = QF[0, mask_lat, :][:, mask_lon]\n",
    "best_data_mask_loc = (QF_loc == 0) & (trop_NO2_column_loc > 0.0) & (strat_NO2_column_loc > 0.0)\n",
    "\n",
    "# Create 2D arrays of latitudes and longitudes, by repeating lon/lat along rows/columns.\n",
    "nlat, nlon = trop_NO2_column_loc.shape\n",
    "lon_loc_2D = np.vstack([lon[mask_lon]] * nlat)\n",
    "lat_loc_2D = np.column_stack([lat[mask_lat]] * nlon)"
   ]
  },
  {
   "cell_type": "markdown",
   "id": "ca6322b9-5344-478a-ac9f-26693bfcb6e6",
   "metadata": {},
   "source": [
    "### plotting spatial distribution"
   ]
  },
  {
   "cell_type": "code",
   "execution_count": null,
   "id": "fac35e6b-cc41-44c9-b652-862c689a8be6",
   "metadata": {},
   "outputs": [],
   "source": [
    "# Create a Cartopy projection\n",
    "proj = ccrs.PlateCarree()\n",
    "transform = ccrs.PlateCarree()\n",
    "\n",
    "# Create a figure and axis.\n",
    "fig, ax = plt.subplots(\n",
    "    1, 1, figsize=(5, 6), dpi=300, facecolor=None, subplot_kw={\"projection\": proj}\n",
    ")\n",
    "\n",
    "# Add coastlines and U.S. state borders\n",
    "ax.coastlines(linewidth=0.5)\n",
    "ax.add_feature(cfeature.STATES, linestyle=\":\", edgecolor=\"gray\", linewidth=0.5)\n",
    "\n",
    "im = ax.scatter(\n",
    "    lon_loc_2D[best_data_mask_loc],\n",
    "    lat_loc_2D[best_data_mask_loc],\n",
    "    s=1,\n",
    "    c=trop_NO2_column_loc[best_data_mask_loc] + strat_NO2_column_loc[best_data_mask_loc],\n",
    "    vmin=0,\n",
    "    vmax=5.0e16,\n",
    "    transform=transform,\n",
    ")\n",
    "ax.set_extent([-103, -89, 32, 44], crs=transform)\n",
    "\n",
    "cb = plt.colorbar(im, ticks=[0, 1.0e16, 2.0e16, 3.0e16, 4.0e16, 5.0e16], fraction=0.022, pad=0.01)\n",
    "cb.set_label(\"total NO2 col, \" + NO2_unit, fontsize=10)\n",
    "\n",
    "plt.show()"
   ]
  },
  {
   "cell_type": "markdown",
   "id": "c0e39895-fb0f-4eac-a22f-76596796faef",
   "metadata": {},
   "source": [
    "# 6. Another way to get the data - HarmonyPy"
   ]
  },
  {
   "cell_type": "code",
   "execution_count": null,
   "id": "af194191-8958-43cd-a542-0e68eb3d7087",
   "metadata": {},
   "outputs": [],
   "source": [
    "print(\"Please provide your Earthdata Login credentials to allow data access\")\n",
    "print(\"Your credentials will only be passed to Earthdata and will not be exposed in the notebook\")\n",
    "username = input(\"Username:\")\n",
    "\n",
    "harmony_client = Client(env=Environment.PROD, auth=(username, getpass.getpass()))"
   ]
  },
  {
   "cell_type": "markdown",
   "id": "211dd66e-84ea-4532-8154-e12f1e7611e8",
   "metadata": {},
   "source": [
    "### collection_ID is needed for this method\n",
    "How do we get one?\n",
    "Search for collection short name, TEMPO_NO2_L3, in EarthData https://search.earthdata.nasa.gov/search\n",
    "and select right version, V03:\n",
    "![img1](getting_collection_ID_1.jpg)\n",
    "find collection_ID in the address line:\n",
    "![img2](getting_collection_ID_2.jpg)"
   ]
  },
  {
   "cell_type": "markdown",
   "id": "6e457f89-8478-488e-998f-8a66f8ce652a",
   "metadata": {},
   "source": [
    "### getting specific datasets from a granule"
   ]
  },
  {
   "cell_type": "code",
   "execution_count": null,
   "id": "f6a339fc-3d16-423c-b604-e541c95288be",
   "metadata": {},
   "outputs": [],
   "source": [
    "granule_name = POI_results[8].data_links()[0].split(\"/\")[-1]\n",
    "\n",
    "# TEMPO Formaldehyde L3 C2930763263-LARC_CLOUD\n",
    "request = Request(\n",
    "    collection=Collection(id=\"C2930763263-LARC_CLOUD\"),\n",
    "    granule_name=[granule_name],\n",
    "    variables=[\n",
    "        \"product/vertical_column_troposphere\",\n",
    "        \"product/vertical_column_stratosphere\",\n",
    "        \"product/main_data_quality_flag\",\n",
    "        \"latitude\",\n",
    "        \"longitude\",\n",
    "    ],\n",
    ")\n",
    "\n",
    "job_id = harmony_client.submit(request)\n",
    "print(f\"jobID = {job_id}\")\n",
    "harmony_client.wait_for_processing(job_id, show_progress=True)\n",
    "\n",
    "# Download the resulting files\n",
    "results = harmony_client.download_all(job_id, directory=\".\", overwrite=True)\n",
    "all_results_stored = [f.result() for f in results]\n",
    "print(f\"Number of result files: {len(all_results_stored)}\")"
   ]
  },
  {
   "cell_type": "markdown",
   "id": "d2c91add-1eae-45b2-95ac-7090e13fd48e",
   "metadata": {},
   "source": [
    "### make sure we got the same numbers - read and test the subset"
   ]
  },
  {
   "cell_type": "code",
   "execution_count": null,
   "id": "cb00b991-eb6f-495b-9424-383408bdfa63",
   "metadata": {},
   "outputs": [],
   "source": [
    "granule_name = all_results_stored[0]\n",
    "lat, lon, strat_NO2_column, fv_strat_NO2, trop_NO2_column, fv_trop_NO2, NO2_unit, QF = (\n",
    "    read_TEMPO_NO2_L3(granule_name)\n",
    ")"
   ]
  },
  {
   "cell_type": "markdown",
   "id": "6ac70e03-946b-4423-bedc-72a746333e95",
   "metadata": {},
   "source": [
    "### How many pixels with valid column values and high quality flag?\n",
    "there should be 7363186"
   ]
  },
  {
   "cell_type": "code",
   "execution_count": null,
   "id": "e9efc595-d87b-4ae7-b469-8a163bbc66fd",
   "metadata": {},
   "outputs": [],
   "source": [
    "good_data_mask = (QF == 0) & (trop_NO2_column != fv_trop_NO2) & (strat_NO2_column != fv_strat_NO2)\n",
    "len(trop_NO2_column[good_data_mask])"
   ]
  },
  {
   "cell_type": "markdown",
   "id": "cc063187-b44c-4cf4-8c58-d8be6efbadc8",
   "metadata": {},
   "source": [
    "### copy subset file - it will be over-written at the next step"
   ]
  },
  {
   "cell_type": "code",
   "execution_count": null,
   "id": "6c6ef28c-7576-4691-ab8e-f788b21f1a09",
   "metadata": {},
   "outputs": [],
   "source": [
    "for r in all_results_stored:\n",
    "    print(r)\n",
    "    ind = r.rfind(\".\")\n",
    "    new_name = r[:ind] + \"_variable_subset\" + r[ind:]\n",
    "    print(new_name)\n",
    "    shutil.copy(r, new_name)"
   ]
  },
  {
   "cell_type": "markdown",
   "id": "f640da26-411a-4d53-910e-37a6d65f6e88",
   "metadata": {},
   "source": [
    "### spatial AND variable subset"
   ]
  },
  {
   "cell_type": "code",
   "execution_count": null,
   "id": "26070742-aac6-4fbc-b6f2-f1c3b437b0da",
   "metadata": {},
   "outputs": [],
   "source": [
    "min_lat = POI_lat - dlat\n",
    "max_lat = POI_lat + dlat\n",
    "min_lon = POI_lon - dlon\n",
    "max_lon = POI_lon + dlon\n",
    "\n",
    "request = Request(\n",
    "    collection=Collection(id=\"C2930763263-LARC_CLOUD\"),\n",
    "    # Note there is not a granule specified!\n",
    "    spatial=BBox(min_lon, min_lat, max_lon, max_lat),\n",
    "    temporal={\n",
    "        \"start\": dt.datetime(2024, 9, 1, 0, 0, 0),\n",
    "        \"stop\": dt.datetime(2024, 9, 1, 23, 59, 59),\n",
    "    },\n",
    "    variables=[\n",
    "        \"product/vertical_column_troposphere\",\n",
    "        \"product/vertical_column_stratosphere\",\n",
    "        \"product/main_data_quality_flag\",\n",
    "        \"latitude\",\n",
    "        \"longitude\",\n",
    "    ],\n",
    ")\n",
    "\n",
    "job_id = harmony_client.submit(request)\n",
    "\n",
    "print(f\"jobID = {job_id}\")\n",
    "harmony_client.wait_for_processing(job_id, show_progress=True)\n",
    "\n",
    "# Download the resulting files\n",
    "results = harmony_client.download_all(job_id, directory=\".\", overwrite=True)\n",
    "all_results_stored = sorted([f.result() for f in results])\n",
    "print(f\"Number of result files: {len(all_results_stored)}\")"
   ]
  },
  {
   "cell_type": "markdown",
   "id": "bf92f8ef-1cd3-447b-b2d0-5bcfc681c50a",
   "metadata": {},
   "source": [
    "### can the new subsetted granule be read by the our custom-made function read_TEMPO_NO2_L3(fn)?"
   ]
  },
  {
   "cell_type": "code",
   "execution_count": null,
   "id": "88cba78a-9b90-431d-aea3-9f40037c6b68",
   "metadata": {},
   "outputs": [],
   "source": [
    "granule_name = all_results_stored[8]\n",
    "print(granule_name)\n",
    "lat, lon, strat_NO2_column, fv_strat_NO2, trop_NO2_column, fv_trop_NO2, NO2_unit, QF = (\n",
    "    read_TEMPO_NO2_L3(granule_name)\n",
    ")"
   ]
  },
  {
   "cell_type": "markdown",
   "id": "1b38893a-9fd0-42cd-86fc-1d9f793920f7",
   "metadata": {},
   "source": [
    "### Yes, it can. But we can use another method to access netCDF files\n",
    "using xarray library"
   ]
  },
  {
   "cell_type": "code",
   "execution_count": null,
   "id": "2ad77f7e-466a-450d-8194-b9471ba47011",
   "metadata": {},
   "outputs": [],
   "source": [
    "# Open the data files\n",
    "ds_dict = dict()\n",
    "for r in all_results_stored:\n",
    "    ds_root = xr.open_dataset(r)\n",
    "    ds_product = xr.open_dataset(r, group=\"product\")\n",
    "\n",
    "    ds_dict[r] = xr.merge([ds_root, ds_product])"
   ]
  },
  {
   "cell_type": "markdown",
   "id": "2917903c",
   "metadata": {},
   "source": [
    "# 7. Plotting the data"
   ]
  },
  {
   "cell_type": "markdown",
   "id": "14879a63-ce9c-4bbe-b21a-d433841515a0",
   "metadata": {},
   "source": [
    "### plotting individual images"
   ]
  },
  {
   "cell_type": "code",
   "execution_count": null,
   "id": "02d31098-6687-4635-ac21-6ce18c5c8599",
   "metadata": {},
   "outputs": [],
   "source": [
    "for i, (dk, dv) in enumerate(ds_dict.items()):\n",
    "    Var = dv[\"vertical_column_troposphere\"].values\n",
    "    QF = dv[\"main_data_quality_flag\"].values\n",
    "    best_trop_NO2_mask = (Var > 0.0) & (QF == 0)\n",
    "    best_trop_NO2 = Var[best_trop_NO2_mask]\n",
    "\n",
    "    (nt, nlat, nlon) = Var.shape\n",
    "    lon_1D = dv[\"longitude\"].values\n",
    "    lon_2D = np.empty((nt, nlat, nlon))\n",
    "    for j in range(nlat):\n",
    "        lon_2D[0, j, :] = lon_1D\n",
    "    lat_1D = dv[\"latitude\"].values\n",
    "    lat_2D = np.empty((nt, nlat, nlon))\n",
    "    for j in range(nlon):\n",
    "        lat_2D[0, :, j] = lat_1D\n",
    "    print(i)\n",
    "\n",
    "    # Create a figure\n",
    "    fig = plt.figure(figsize=(5, 6), dpi=120, facecolor=None)\n",
    "    # Create a Cartopy projection\n",
    "    proj = ccrs.PlateCarree()\n",
    "    transform = ccrs.PlateCarree()\n",
    "    # Adding subplot\n",
    "    ax = fig.add_subplot(111, projection=proj)\n",
    "    # Add coastlines\n",
    "    ax.coastlines(linewidth=0.5)\n",
    "    # Add U.S. state borders\n",
    "    ax.add_feature(cfeature.STATES, linestyle=\":\", edgecolor=\"gray\", linewidth=0.5)\n",
    "    # Set plot title, in this case - the name of subset granule\n",
    "    ax.set_title(dk.split(\"/\")[-1], fontsize=9)\n",
    "    # Set map extent\n",
    "    ax.set_extent([-103, -89, 32, 44], crs=transform)\n",
    "    # Set gridlines\n",
    "    gl = ax.gridlines(draw_labels=True, dms=True, color=\"gray\", linestyle=\"--\", linewidth=0.5)\n",
    "    gl.xformatter = LONGITUDE_FORMATTER\n",
    "    gl.yformatter = LATITUDE_FORMATTER\n",
    "    gl.top_labels = False  # no labels on the top margin\n",
    "    gl.right_labels = False  # no labels on the right margin\n",
    "    gl.xlines = True\n",
    "    gl.ylines = True\n",
    "    gl.xlocator = mticker.FixedLocator([-100, -96, -92])  # longitude ticks\n",
    "    gl.ylocator = mticker.FixedLocator([34, 38, 42])  # latitude ticks\n",
    "\n",
    "    if len(best_trop_NO2) == 0:\n",
    "        im = ax.scatter([POI_lon], [POI_lat], s=0, c=[0], vmin=0, vmax=1.5e16, transform=transform)\n",
    "    else:\n",
    "        im = ax.scatter(\n",
    "            lon_2D[best_trop_NO2_mask],\n",
    "            lat_2D[best_trop_NO2_mask],\n",
    "            s=1,\n",
    "            c=best_trop_NO2,\n",
    "            vmin=0,\n",
    "            vmax=1.5e16,\n",
    "            transform=transform,\n",
    "        )\n",
    "\n",
    "    cb = plt.colorbar(im, ticks=[0, 0.5e16, 1.0e16, 1.5e16], fraction=0.022, pad=0.1)\n",
    "    cb.set_label(\"trop NO2 col, \" + NO2_unit, fontsize=10)\n",
    "\n",
    "    plt.show()"
   ]
  },
  {
   "cell_type": "markdown",
   "id": "1e355248-98c0-4447-b365-51b9ab7122c0",
   "metadata": {},
   "source": [
    "### plotting multi-panel image"
   ]
  },
  {
   "cell_type": "code",
   "execution_count": null,
   "id": "ab752991-19c9-40c0-8be1-f9e7cb5af446",
   "metadata": {},
   "outputs": [],
   "source": [
    "ngr = len(ds_dict)\n",
    "# Create a figure\n",
    "fig = plt.figure(figsize=(6, 5 * ngr), dpi=120, facecolor=None)\n",
    "# Create a Cartopy projection\n",
    "proj = ccrs.PlateCarree()\n",
    "transform = ccrs.PlateCarree()\n",
    "\n",
    "for i, (dk, dv) in enumerate(ds_dict.items()):\n",
    "    Var = dv[\"vertical_column_troposphere\"].values\n",
    "    QF = dv[\"main_data_quality_flag\"].values\n",
    "    best_trop_NO2_mask = (Var > 0.0) & (QF == 0)\n",
    "    best_trop_NO2 = Var[best_trop_NO2_mask]\n",
    "\n",
    "    (nt, nlat, nlon) = Var.shape\n",
    "    lon_1D = dv[\"longitude\"].values\n",
    "    lon_2D = np.empty((nt, nlat, nlon))\n",
    "    for j in range(nlat):\n",
    "        lon_2D[0, j, :] = lon_1D\n",
    "    lat_1D = dv[\"latitude\"].values\n",
    "    lat_2D = np.empty((nt, nlat, nlon))\n",
    "    for j in range(nlon):\n",
    "        lat_2D[0, :, j] = lat_1D\n",
    "    print(i)\n",
    "\n",
    "    # Adding subplot\n",
    "    ax = fig.add_subplot(ngr, 1, i + 1, projection=proj)\n",
    "    # Add coastlines\n",
    "    ax.coastlines(linewidth=0.5)\n",
    "    # Add U.S. state borders\n",
    "    ax.add_feature(cfeature.STATES, linestyle=\":\", edgecolor=\"gray\", linewidth=0.5)\n",
    "    # Set plot title, in this case - the name of subset granule\n",
    "    ax.set_title(dk.split(\"/\")[-1], fontsize=9)\n",
    "    # Set map extent\n",
    "    ax.set_extent([-103, -89, 32, 44], crs=transform)\n",
    "    # Set gridlines\n",
    "    gl = ax.gridlines(draw_labels=True, dms=True, color=\"gray\", linestyle=\"--\", linewidth=0.5)\n",
    "    gl.xformatter = LONGITUDE_FORMATTER\n",
    "    gl.yformatter = LATITUDE_FORMATTER\n",
    "    gl.top_labels = False  # no labels on the top margin\n",
    "    gl.right_labels = False  # no labels on the right margin\n",
    "    gl.xlines = True\n",
    "    gl.ylines = True\n",
    "    gl.xlocator = mticker.FixedLocator([-100, -96, -92])  # longitude ticks\n",
    "    gl.ylocator = mticker.FixedLocator([34, 38, 42])  # latitude ticks\n",
    "\n",
    "    if len(best_trop_NO2) == 0:  # if there are no data points, ...\n",
    "        im = ax.scatter(\n",
    "            [POI_lon], [POI_lat], s=0, c=[0], vmin=0, vmax=1.5e16, transform=transform\n",
    "        )  # ... plot an empty image\n",
    "    else:\n",
    "        im = ax.scatter(\n",
    "            lon_2D[best_trop_NO2_mask],\n",
    "            lat_2D[best_trop_NO2_mask],\n",
    "            s=1,\n",
    "            c=best_trop_NO2,\n",
    "            vmin=0,\n",
    "            vmax=1.5e16,\n",
    "            transform=transform,\n",
    "        )\n",
    "\n",
    "    cb = plt.colorbar(im, ticks=[0, 0.5e16, 1.0e16, 1.5e16], fraction=0.022, pad=0.1)\n",
    "    cb.set_label(\"trop NO2 col, \" + NO2_unit, fontsize=10)\n",
    "\n",
    "plt.show()"
   ]
  },
  {
   "cell_type": "code",
   "execution_count": null,
   "id": "05ec5d0e-b075-4738-83e9-6ea2f49cc521",
   "metadata": {},
   "outputs": [],
   "source": []
  }
 ],
 "metadata": {
  "kernelspec": {
   "display_name": "asdc-github-dev",
   "language": "python",
   "name": "asdc-github-dev"
  },
  "language_info": {
   "codemirror_mode": {
    "name": "ipython",
    "version": 3
   },
   "file_extension": ".py",
   "mimetype": "text/x-python",
   "name": "python",
   "nbconvert_exporter": "python",
   "pygments_lexer": "ipython3",
   "version": "3.10.15"
  }
 },
 "nbformat": 4,
 "nbformat_minor": 5
}
